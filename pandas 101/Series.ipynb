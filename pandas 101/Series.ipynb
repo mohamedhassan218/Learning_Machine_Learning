{
 "cells": [
  {
   "cell_type": "markdown",
   "metadata": {},
   "source": [
    "# Notebook that explains the basics of Series using Pandas lib."
   ]
  },
  {
   "cell_type": "markdown",
   "metadata": {},
   "source": [
    "## Test the notebook"
   ]
  },
  {
   "cell_type": "code",
   "execution_count": 15,
   "metadata": {},
   "outputs": [
    {
     "name": "stdout",
     "output_type": "stream",
     "text": [
      "Hello World\n"
     ]
    }
   ],
   "source": [
    "print(\"Hello World\")"
   ]
  },
  {
   "cell_type": "markdown",
   "metadata": {},
   "source": [
    "## Import Pandas library."
   ]
  },
  {
   "cell_type": "code",
   "execution_count": 2,
   "metadata": {},
   "outputs": [],
   "source": [
    "import pandas as pd"
   ]
  },
  {
   "cell_type": "markdown",
   "metadata": {},
   "source": [
    "## Create a simple values and headers lists, and build our first Serie"
   ]
  },
  {
   "cell_type": "code",
   "execution_count": 3,
   "metadata": {},
   "outputs": [
    {
     "name": "stdout",
     "output_type": "stream",
     "text": [
      "Series 1:\n",
      "first_name        Mohamed\n",
      "last_name          Hassan\n",
      "age                    21\n",
      "email         m@gmail.com\n",
      "dtype: object\n",
      "---------------------------\n",
      "Series 2:\n",
      "0        Mohamed\n",
      "1         Hassan\n",
      "2             21\n",
      "3    m@gmail.com\n",
      "dtype: object\n"
     ]
    }
   ],
   "source": [
    "# Values can be anything: function, class, and literlly anything\n",
    "values = ['Mohamed', 'Hassan', 21, 'm@gmail.com']\n",
    "headers = [\"first_name\", \"last_name\", \"age\", \"email\"]\n",
    "\n",
    "# Series with headers\n",
    "my_series_1 = pd.Series(data=values, index=headers)\n",
    "\n",
    "# Series without headers\n",
    "my_series_2 = pd.Series(values)\n",
    "\n",
    "print('Series 1:')\n",
    "print(my_series_1)\n",
    "print('---------------------------')\n",
    "print('Series 2:')\n",
    "print(my_series_2)"
   ]
  },
  {
   "cell_type": "markdown",
   "metadata": {},
   "source": [
    "## Do some computations on series."
   ]
  },
  {
   "cell_type": "code",
   "execution_count": 4,
   "metadata": {},
   "outputs": [
    {
     "name": "stdout",
     "output_type": "stream",
     "text": [
      "Design Patterns        NaN\n",
      "OOP                    NaN\n",
      "Operating Systems    100.0\n",
      "dtype: float64\n",
      "---------------------------\n",
      "Computer Graphics   NaN\n",
      "Data Structures     NaN\n",
      "Design Patterns     NaN\n",
      "Networks            NaN\n",
      "OOP                 NaN\n",
      "Operating Systems   NaN\n",
      "dtype: float64\n"
     ]
    }
   ],
   "source": [
    "# We can deal with series as lists: add, subtract \n",
    "# Name of columns must be the same to implement the calculation.\n",
    "\n",
    "year_1 = pd.Series(data=[90, 80], index=['Operating Systems', 'Design Patterns'])\n",
    "year_2 = pd.Series(data=[90, 80], index=['Networks', 'Computer Graphics'])\n",
    "year_3 = pd.Series(data=[10, 82], index=['Operating Systems', 'OOP'])\n",
    "year_4 = pd.Series(data=[90, 20], index=['Data Structures', 'Design Patterns'])\n",
    "\n",
    "year_1_3 = year_1 + year_3\n",
    "print(year_1_3)\n",
    "print('---------------------------')\n",
    "\n",
    "final_grades = year_1 +  year_3 + year_2 + year_4\n",
    "\n",
    "print(final_grades)"
   ]
  }
 ],
 "metadata": {
  "kernelspec": {
   "display_name": "base",
   "language": "python",
   "name": "python3"
  },
  "language_info": {
   "codemirror_mode": {
    "name": "ipython",
    "version": 3
   },
   "file_extension": ".py",
   "mimetype": "text/x-python",
   "name": "python",
   "nbconvert_exporter": "python",
   "pygments_lexer": "ipython3",
   "version": "3.10.9"
  }
 },
 "nbformat": 4,
 "nbformat_minor": 2
}
